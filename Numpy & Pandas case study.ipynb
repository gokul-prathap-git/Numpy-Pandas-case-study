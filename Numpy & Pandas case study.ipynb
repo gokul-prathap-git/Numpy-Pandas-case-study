{
 "cells": [
  {
   "cell_type": "markdown",
   "id": "c23cbfba-3db9-45a0-904c-4aac6344e617",
   "metadata": {},
   "source": [
    "# Numpy"
   ]
  },
  {
   "cell_type": "markdown",
   "id": "ac643574-60e4-4b97-827d-aa569d6e5e39",
   "metadata": {},
   "source": [
    "## 1.Creating arrays"
   ]
  },
  {
   "cell_type": "code",
   "execution_count": 3,
   "id": "1c86d9f3-04ba-434b-82b2-3b826a975fb8",
   "metadata": {},
   "outputs": [],
   "source": [
    "import numpy as np"
   ]
  },
  {
   "cell_type": "code",
   "execution_count": 163,
   "id": "f79ffb8a-42c1-4642-9030-ef0ef3531dca",
   "metadata": {},
   "outputs": [
    {
     "name": "stdout",
     "output_type": "stream",
     "text": [
      "Random Array: [20 41 22 17 35 41 17 47 45 24 46 20 34 38 26 12 17 17 38 26]\n"
     ]
    }
   ],
   "source": [
    "# create a numpy array of 20 random integers between 10 and 50\n",
    "random_array = np.random.randint(10,50, size=20)\n",
    "print(\"Random Array:\",random_array)"
   ]
  },
  {
   "cell_type": "markdown",
   "id": "6ac4217e-eff5-41af-b0e1-f94cb8fb166f",
   "metadata": {},
   "source": [
    "## 2.Array reshaping"
   ]
  },
  {
   "cell_type": "code",
   "execution_count": 165,
   "id": "8946dfc8-d78b-4331-91fe-553aff9d3b88",
   "metadata": {},
   "outputs": [
    {
     "name": "stdout",
     "output_type": "stream",
     "text": [
      "Original Array (6,5): [[0.68021644 0.17914769 0.72565551 0.46044827 0.25412749]\n",
      " [0.90841897 0.37058862 0.54549573 0.73646709 0.04818533]\n",
      " [0.09389809 0.23794764 0.10464114 0.03084223 0.71289388]\n",
      " [0.25808815 0.23748303 0.44988044 0.7541641  0.4836457 ]\n",
      " [0.9970047  0.20606885 0.25234917 0.50999703 0.49473712]\n",
      " [0.07421766 0.36726312 0.26792508 0.48162001 0.56252517]]\n",
      "Reshaped Array (5,6): [[0.68021644 0.17914769 0.72565551 0.46044827 0.25412749 0.90841897]\n",
      " [0.37058862 0.54549573 0.73646709 0.04818533 0.09389809 0.23794764]\n",
      " [0.10464114 0.03084223 0.71289388 0.25808815 0.23748303 0.44988044]\n",
      " [0.7541641  0.4836457  0.9970047  0.20606885 0.25234917 0.50999703]\n",
      " [0.49473712 0.07421766 0.36726312 0.26792508 0.48162001 0.56252517]]\n"
     ]
    }
   ],
   "source": [
    "# Create a 2D NumPy array of shape (6, 5) fi lled with random fl oats between 0 and 1. Reshape this array to have shape (5, 6) and print both the original and reshaped arrays.\n",
    "\n",
    "original_array = np.random.rand(6,5)\n",
    "reshaped_array = original_array.reshape(5,6)\n",
    "print(\"Original Array (6,5):\",original_array)\n",
    "print(\"Reshaped Array (5,6):\",reshaped_array)"
   ]
  },
  {
   "cell_type": "markdown",
   "id": "5b123d57-b79f-4b50-8a07-ff6c2452a4b9",
   "metadata": {},
   "source": [
    "## 3.Array Indexing and Slicing"
   ]
  },
  {
   "cell_type": "code",
   "execution_count": 21,
   "id": "5fa4c52f-9241-4d4c-a819-4d3f0935a8f5",
   "metadata": {},
   "outputs": [
    {
     "name": "stdout",
     "output_type": "stream",
     "text": [
      "Original Array:\n",
      "[[ 1  2  3  4  5]\n",
      " [ 6  7  8  9 10]\n",
      " [11 12 13 14 15]\n",
      " [16 17 18 19 20]\n",
      " [21 22 23 24 25]]\n",
      "Sub Array(rows 2 to 4,columns 1 to 3): [[ 6  7  8]\n",
      " [11 12 13]\n",
      " [16 17 18]]\n"
     ]
    }
   ],
   "source": [
    "# Create a 2D array of shape (5, 5) fi lled with numbers from 1 to 25. Extract a subarray that includes rows 2 to 4 and columns 1 to 3.\n",
    "\n",
    "array = np.arange(1,26).reshape(5,5)\n",
    "subarray = array[1:4,0:3]\n",
    "print(\"Original Array:\")\n",
    "print(array)\n",
    "print(\"Sub Array(rows 2 to 4,columns 1 to 3):\",subarray)"
   ]
  },
  {
   "cell_type": "markdown",
   "id": "90bd5ca2-7730-4e77-8afd-96aebfa31927",
   "metadata": {},
   "source": [
    "## 4.Array Operations"
   ]
  },
  {
   "cell_type": "code",
   "execution_count": 24,
   "id": "96d65561-5bee-41ba-84b0-bfe9638d3831",
   "metadata": {},
   "outputs": [
    {
     "name": "stdout",
     "output_type": "stream",
     "text": [
      "Array A: [55 50 24 30 44 72 41 92 22 32]\n",
      "Array B: [72 77 11 67 65 68 87 94 61 18]\n",
      "Sum of A and B: [127 127  35  97 109 140 128 186  83  50]\n",
      "Result of after multiplying by 2: [254 254  70 194 218 280 256 372 166 100]\n"
     ]
    }
   ],
   "source": [
    "# Generate two 1D arrays A and B, each containing 10 random integers between 1 and 100. Add the arrays together, then multiply the result by 2. Show the results of each operation.\n",
    "\n",
    "A = np.random.randint(1,101,size=10)\n",
    "B = np.random.randint(1,101,size=10)\n",
    "sum_array = A + B\n",
    "result_array = sum_array*2\n",
    "print(\"Array A:\",A)\n",
    "print(\"Array B:\",B)\n",
    "print(\"Sum of A and B:\",sum_array)\n",
    "print(\"Result of after multiplying by 2:\",result_array)"
   ]
  },
  {
   "cell_type": "markdown",
   "id": "39e64fb5-714f-4974-9de4-6e1b08e7bafd",
   "metadata": {},
   "source": [
    "## 5.Broadcasting"
   ]
  },
  {
   "cell_type": "code",
   "execution_count": 28,
   "id": "1497775f-0131-4f4e-bcc0-03e9ab2ca464",
   "metadata": {},
   "outputs": [
    {
     "name": "stdout",
     "output_type": "stream",
     "text": [
      "Array A(3,4): [[6 8 1 7]\n",
      " [4 3 3 3]\n",
      " [1 4 7 9]]\n",
      "Array b(4,): [1 2 3 4]\n",
      "Result of A+B: [[ 7 10  4 11]\n",
      " [ 5  5  6  7]\n",
      " [ 2  6 10 13]]\n"
     ]
    }
   ],
   "source": [
    "# Create a 2D array A of shape (3, 4) filled with random integers between 1 and 10. Create a 1D array B of shape (4,) with values [1, 2, 3, 4]. Add the 1D array to the 2D array and explain how broadcasting works in this case\n",
    "\n",
    "A = np.random.randint(1,11,size=(3,4))\n",
    "B = np.array([1,2,3,4])\n",
    "result = A + B\n",
    "print(\"Array A(3,4):\",A)\n",
    "print(\"Array b(4,):\",B)\n",
    "print(\"Result of A+B:\",result)\n"
   ]
  },
  {
   "cell_type": "markdown",
   "id": "6b22c843-5538-44c7-a345-8f20298e8669",
   "metadata": {},
   "source": [
    "## 6.Finding Maximum/Minimum Values"
   ]
  },
  {
   "cell_type": "code",
   "execution_count": 33,
   "id": "18bba384-6cb0-49e1-a06a-634a7320e255",
   "metadata": {},
   "outputs": [
    {
     "name": "stdout",
     "output_type": "stream",
     "text": [
      "Matrix: [[44  2 65]\n",
      " [87 67 28]\n",
      " [66 36 40]]\n",
      "Row sums: [111 182 142]\n",
      "Row with maximum sum(index): 1\n",
      "Maximum value in the row: 87\n"
     ]
    }
   ],
   "source": [
    "# Create a 3x3 matrix of random integers between 1 and 100. Find the row with the maximum sum, and then the maximum value in that row.\n",
    "\n",
    "matrix = np.random.randint(1,101,size=(3,3))\n",
    "row_sums = np.sum(matrix, axis=1)\n",
    "max_row_index = np.argmax(row_sums)\n",
    "max_value_in_row = np.max(matrix[max_row_index])\n",
    "print(\"Matrix:\",matrix)\n",
    "print(\"Row sums:\",row_sums)\n",
    "print(\"Row with maximum sum(index):\",max_row_index)\n",
    "print(\"Maximum value in the row:\",max_value_in_row)"
   ]
  },
  {
   "cell_type": "markdown",
   "id": "3d18b985-2e20-4dde-a9ae-e650aa9b83e4",
   "metadata": {},
   "source": [
    "## 7.Linear Algebra"
   ]
  },
  {
   "cell_type": "code",
   "execution_count": 36,
   "id": "5cacb5a7-87d1-4d41-a4b2-27d8209d0f57",
   "metadata": {},
   "outputs": [
    {
     "name": "stdout",
     "output_type": "stream",
     "text": [
      "Array A: [[54 77]\n",
      " [22 85]]\n",
      "Array B: [[94 91]\n",
      " [85 19]]\n",
      "A*B: [[11621  6377]\n",
      " [ 9293  3617]]\n"
     ]
    }
   ],
   "source": [
    "# Create two 2D arrays A and B, both of shape (2, 2), fi lled with random integers. Compute the matrix multiplication of A and B using np.dot().\n",
    "\n",
    "A = np.random.randint(1,101,size=(2,2))\n",
    "B = np.random.randint(1,101,size=(2,2))\n",
    "result = np.dot(A,B)\n",
    "print(\"Array A:\",A)\n",
    "print(\"Array B:\",B)\n",
    "print(\"A*B:\",result)"
   ]
  },
  {
   "cell_type": "markdown",
   "id": "c1dcba83-22f7-4637-bddf-6fefeaa027a5",
   "metadata": {},
   "source": [
    "## 8. Boolean Indexing"
   ]
  },
  {
   "cell_type": "code",
   "execution_count": 39,
   "id": "a8e67556-ed22-4f48-a58c-d018c22b172f",
   "metadata": {},
   "outputs": [
    {
     "name": "stdout",
     "output_type": "stream",
     "text": [
      "Array: [[31  3 23  7 23 22]\n",
      " [20 30  2 10 44 15]\n",
      " [14 20  4 37 43 33]\n",
      " [14 14 38 26 21  7]\n",
      " [32 14 20 19 42 31]\n",
      " [38  4 18 12 12 30]]\n",
      "Values grater than 25: [31 30 44 37 43 33 38 26 32 42 31 38 30]\n"
     ]
    }
   ],
   "source": [
    "# Create an array of shape (6, 6) with random integers between 1 and 50. Using boolean indexing, extract all values greater than 25.\n",
    "\n",
    "array = np.random.randint(1,51,size=(6,6))\n",
    "values_greater_than_25 = array[array>25]\n",
    "print(\"Array:\",array)\n",
    "print(\"Values grater than 25:\",values_greater_than_25)"
   ]
  },
  {
   "cell_type": "markdown",
   "id": "206258f9-6277-497c-a304-238a7cf2180e",
   "metadata": {},
   "source": [
    "## 9.Statistics"
   ]
  },
  {
   "cell_type": "code",
   "execution_count": 42,
   "id": "d9e7d5af-2ba2-4f62-af92-c07f193acb30",
   "metadata": {},
   "outputs": [
    {
     "name": "stdout",
     "output_type": "stream",
     "text": [
      "Array: [[0.6491761  0.5918937  0.5358393  0.02681592 0.67800523]\n",
      " [0.25707558 0.66153741 0.90647202 0.13282424 0.13713131]\n",
      " [0.26073912 0.67877481 0.38992782 0.00611117 0.72505388]\n",
      " [0.88815663 0.26138722 0.37355515 0.24948449 0.72491628]\n",
      " [0.9784503  0.24812678 0.94510389 0.60877823 0.44479558]]\n",
      "Median along rows: [0.5918937  0.25707558 0.38992782 0.37355515 0.60877823]\n",
      "Median along columns: [0.6491761  0.5918937  0.5358393  0.13282424 0.67800523]\n",
      "Variance along rows: [0.05750094 0.09680388 0.07145685 0.06738681 0.08003072]\n",
      "Variance along columns: [0.0922293  0.03723922 0.06159839 0.04830624 0.05176637]\n"
     ]
    }
   ],
   "source": [
    "# Create a 5x5 array of random floats between 0 and 1. Calculate the median and variance along the columns and rows separately.\n",
    "\n",
    "array = np.random.rand(5,5)\n",
    "median_rows = np.median(array,axis=1)\n",
    "median_columns = np.median(array,axis=0)\n",
    "variance_rows = np.var(array,axis=1)\n",
    "variance_columns = np.var(array,axis=0)\n",
    "print(\"Array:\",array)\n",
    "print(\"Median along rows:\",median_rows)\n",
    "print(\"Median along columns:\",median_columns)\n",
    "print(\"Variance along rows:\",variance_rows)\n",
    "print(\"Variance along columns:\",variance_columns)\n"
   ]
  },
  {
   "cell_type": "markdown",
   "id": "835caa39-945c-478d-a89b-e6ff7bab1480",
   "metadata": {},
   "source": [
    "## 10. Element-wise Operations"
   ]
  },
  {
   "cell_type": "code",
   "execution_count": 47,
   "id": "493c5ffd-49f6-45c9-b9f7-0be2743c9a8b",
   "metadata": {},
   "outputs": [
    {
     "name": "stdout",
     "output_type": "stream",
     "text": [
      "Matrix: [[8 3 5]\n",
      " [4 1 5]\n",
      " [7 3 7]]\n",
      "Matrix after subtracting2: [[ 6  1  3]\n",
      " [ 2 -1  3]\n",
      " [ 5  1  5]]\n",
      "Matrix after squaring each element: [[64  9 25]\n",
      " [16  1 25]\n",
      " [49  9 49]]\n",
      "Matrix after computing reciprocals: [[0.125      0.33333333 0.2       ]\n",
      " [0.25       1.         0.2       ]\n",
      " [0.14285714 0.33333333 0.14285714]]\n"
     ]
    }
   ],
   "source": [
    "# Generate a 3x3 matrix of random integers between 1 and 10. Perform the following element-wise operations: subtract 2 from each element, square each element, and compute the reciprocal of each element.\n",
    "\n",
    "matrix = np.random.randint(1,11,size=(3,3))\n",
    "subtracted_matrix = matrix - 2\n",
    "squared_matrix = np.power(matrix,2)\n",
    "reciprocal_matrix = 1/matrix\n",
    "\n",
    "print(\"Matrix:\",matrix)\n",
    "print(\"Matrix after subtracting2:\",subtracted_matrix)\n",
    "print(\"Matrix after squaring each element:\",squared_matrix)\n",
    "print(\"Matrix after computing reciprocals:\",reciprocal_matrix)"
   ]
  },
  {
   "cell_type": "markdown",
   "id": "1e17171d-1c01-472f-9205-63098bc9d5ee",
   "metadata": {},
   "source": [
    "# Pandas"
   ]
  },
  {
   "cell_type": "markdown",
   "id": "0f83f41c-1aef-4dbe-ac6b-4498ef8746c8",
   "metadata": {},
   "source": [
    "## 1.Basic Exploration"
   ]
  },
  {
   "cell_type": "code",
   "execution_count": 54,
   "id": "0d7231c0-f05d-4dd6-904b-90fefa116027",
   "metadata": {},
   "outputs": [],
   "source": [
    "# Basic Exploration Load the dataset into a Pandas DataFrame. Display: \n",
    "# The fi rst 10 rows\n",
    "# The total number of rows and columns \n",
    "# Summary statistics for numerical columns"
   ]
  },
  {
   "cell_type": "code",
   "execution_count": 56,
   "id": "f9cbda8d-b54a-4408-be17-5e8f7409c564",
   "metadata": {},
   "outputs": [],
   "source": [
    "import pandas as pd"
   ]
  },
  {
   "cell_type": "code",
   "execution_count": 60,
   "id": "747f6d44-d6d9-4be4-8c59-d6437679fa55",
   "metadata": {},
   "outputs": [],
   "source": [
    "df = pd.read_csv(\"auto-mpg.csv\")"
   ]
  },
  {
   "cell_type": "code",
   "execution_count": 66,
   "id": "0fa90fef-b3a1-4e87-be04-66bc5beb6fe2",
   "metadata": {},
   "outputs": [
    {
     "name": "stdout",
     "output_type": "stream",
     "text": [
      "First 10 rows:\n"
     ]
    },
    {
     "data": {
      "text/html": [
       "<div>\n",
       "<style scoped>\n",
       "    .dataframe tbody tr th:only-of-type {\n",
       "        vertical-align: middle;\n",
       "    }\n",
       "\n",
       "    .dataframe tbody tr th {\n",
       "        vertical-align: top;\n",
       "    }\n",
       "\n",
       "    .dataframe thead th {\n",
       "        text-align: right;\n",
       "    }\n",
       "</style>\n",
       "<table border=\"1\" class=\"dataframe\">\n",
       "  <thead>\n",
       "    <tr style=\"text-align: right;\">\n",
       "      <th></th>\n",
       "      <th>mpg</th>\n",
       "      <th>cylinders</th>\n",
       "      <th>displacement</th>\n",
       "      <th>horsepower</th>\n",
       "      <th>weight</th>\n",
       "      <th>acceleration</th>\n",
       "      <th>model year</th>\n",
       "      <th>origin</th>\n",
       "      <th>car name</th>\n",
       "    </tr>\n",
       "  </thead>\n",
       "  <tbody>\n",
       "    <tr>\n",
       "      <th>0</th>\n",
       "      <td>18.0</td>\n",
       "      <td>8</td>\n",
       "      <td>307.0</td>\n",
       "      <td>130</td>\n",
       "      <td>3504</td>\n",
       "      <td>12.0</td>\n",
       "      <td>70</td>\n",
       "      <td>1</td>\n",
       "      <td>chevrolet chevelle malibu</td>\n",
       "    </tr>\n",
       "    <tr>\n",
       "      <th>1</th>\n",
       "      <td>15.0</td>\n",
       "      <td>8</td>\n",
       "      <td>350.0</td>\n",
       "      <td>165</td>\n",
       "      <td>3693</td>\n",
       "      <td>11.5</td>\n",
       "      <td>70</td>\n",
       "      <td>1</td>\n",
       "      <td>buick skylark 320</td>\n",
       "    </tr>\n",
       "    <tr>\n",
       "      <th>2</th>\n",
       "      <td>18.0</td>\n",
       "      <td>8</td>\n",
       "      <td>318.0</td>\n",
       "      <td>150</td>\n",
       "      <td>3436</td>\n",
       "      <td>11.0</td>\n",
       "      <td>70</td>\n",
       "      <td>1</td>\n",
       "      <td>plymouth satellite</td>\n",
       "    </tr>\n",
       "    <tr>\n",
       "      <th>3</th>\n",
       "      <td>16.0</td>\n",
       "      <td>8</td>\n",
       "      <td>304.0</td>\n",
       "      <td>150</td>\n",
       "      <td>3433</td>\n",
       "      <td>12.0</td>\n",
       "      <td>70</td>\n",
       "      <td>1</td>\n",
       "      <td>amc rebel sst</td>\n",
       "    </tr>\n",
       "    <tr>\n",
       "      <th>4</th>\n",
       "      <td>17.0</td>\n",
       "      <td>8</td>\n",
       "      <td>302.0</td>\n",
       "      <td>140</td>\n",
       "      <td>3449</td>\n",
       "      <td>10.5</td>\n",
       "      <td>70</td>\n",
       "      <td>1</td>\n",
       "      <td>ford torino</td>\n",
       "    </tr>\n",
       "    <tr>\n",
       "      <th>5</th>\n",
       "      <td>15.0</td>\n",
       "      <td>8</td>\n",
       "      <td>429.0</td>\n",
       "      <td>198</td>\n",
       "      <td>4341</td>\n",
       "      <td>10.0</td>\n",
       "      <td>70</td>\n",
       "      <td>1</td>\n",
       "      <td>ford galaxie 500</td>\n",
       "    </tr>\n",
       "    <tr>\n",
       "      <th>6</th>\n",
       "      <td>14.0</td>\n",
       "      <td>8</td>\n",
       "      <td>454.0</td>\n",
       "      <td>220</td>\n",
       "      <td>4354</td>\n",
       "      <td>9.0</td>\n",
       "      <td>70</td>\n",
       "      <td>1</td>\n",
       "      <td>chevrolet impala</td>\n",
       "    </tr>\n",
       "    <tr>\n",
       "      <th>7</th>\n",
       "      <td>14.0</td>\n",
       "      <td>8</td>\n",
       "      <td>440.0</td>\n",
       "      <td>215</td>\n",
       "      <td>4312</td>\n",
       "      <td>8.5</td>\n",
       "      <td>70</td>\n",
       "      <td>1</td>\n",
       "      <td>plymouth fury iii</td>\n",
       "    </tr>\n",
       "    <tr>\n",
       "      <th>8</th>\n",
       "      <td>14.0</td>\n",
       "      <td>8</td>\n",
       "      <td>455.0</td>\n",
       "      <td>225</td>\n",
       "      <td>4425</td>\n",
       "      <td>10.0</td>\n",
       "      <td>70</td>\n",
       "      <td>1</td>\n",
       "      <td>pontiac catalina</td>\n",
       "    </tr>\n",
       "    <tr>\n",
       "      <th>9</th>\n",
       "      <td>15.0</td>\n",
       "      <td>8</td>\n",
       "      <td>390.0</td>\n",
       "      <td>190</td>\n",
       "      <td>3850</td>\n",
       "      <td>8.5</td>\n",
       "      <td>70</td>\n",
       "      <td>1</td>\n",
       "      <td>amc ambassador dpl</td>\n",
       "    </tr>\n",
       "  </tbody>\n",
       "</table>\n",
       "</div>"
      ],
      "text/plain": [
       "    mpg  cylinders  displacement horsepower  weight  acceleration  model year  \\\n",
       "0  18.0          8         307.0        130    3504          12.0          70   \n",
       "1  15.0          8         350.0        165    3693          11.5          70   \n",
       "2  18.0          8         318.0        150    3436          11.0          70   \n",
       "3  16.0          8         304.0        150    3433          12.0          70   \n",
       "4  17.0          8         302.0        140    3449          10.5          70   \n",
       "5  15.0          8         429.0        198    4341          10.0          70   \n",
       "6  14.0          8         454.0        220    4354           9.0          70   \n",
       "7  14.0          8         440.0        215    4312           8.5          70   \n",
       "8  14.0          8         455.0        225    4425          10.0          70   \n",
       "9  15.0          8         390.0        190    3850           8.5          70   \n",
       "\n",
       "   origin                   car name  \n",
       "0       1  chevrolet chevelle malibu  \n",
       "1       1          buick skylark 320  \n",
       "2       1         plymouth satellite  \n",
       "3       1              amc rebel sst  \n",
       "4       1                ford torino  \n",
       "5       1           ford galaxie 500  \n",
       "6       1           chevrolet impala  \n",
       "7       1          plymouth fury iii  \n",
       "8       1           pontiac catalina  \n",
       "9       1         amc ambassador dpl  "
      ]
     },
     "execution_count": 66,
     "metadata": {},
     "output_type": "execute_result"
    }
   ],
   "source": [
    "print(\"First 10 rows:\")\n",
    "(df.head(10))"
   ]
  },
  {
   "cell_type": "code",
   "execution_count": 68,
   "id": "6ce51a5d-62e5-40e4-9188-6da92fb084ec",
   "metadata": {},
   "outputs": [
    {
     "name": "stdout",
     "output_type": "stream",
     "text": [
      "Total number of rows and columns:\n"
     ]
    },
    {
     "data": {
      "text/plain": [
       "(398, 9)"
      ]
     },
     "execution_count": 68,
     "metadata": {},
     "output_type": "execute_result"
    }
   ],
   "source": [
    "print(\"Total number of rows and columns:\")\n",
    "df.shape"
   ]
  },
  {
   "cell_type": "code",
   "execution_count": 70,
   "id": "7aa5332c-e478-473c-97f4-07e1ce921a27",
   "metadata": {},
   "outputs": [
    {
     "name": "stdout",
     "output_type": "stream",
     "text": [
      "Summary statistics for numerical columns:\n"
     ]
    },
    {
     "data": {
      "text/html": [
       "<div>\n",
       "<style scoped>\n",
       "    .dataframe tbody tr th:only-of-type {\n",
       "        vertical-align: middle;\n",
       "    }\n",
       "\n",
       "    .dataframe tbody tr th {\n",
       "        vertical-align: top;\n",
       "    }\n",
       "\n",
       "    .dataframe thead th {\n",
       "        text-align: right;\n",
       "    }\n",
       "</style>\n",
       "<table border=\"1\" class=\"dataframe\">\n",
       "  <thead>\n",
       "    <tr style=\"text-align: right;\">\n",
       "      <th></th>\n",
       "      <th>mpg</th>\n",
       "      <th>cylinders</th>\n",
       "      <th>displacement</th>\n",
       "      <th>weight</th>\n",
       "      <th>acceleration</th>\n",
       "      <th>model year</th>\n",
       "      <th>origin</th>\n",
       "    </tr>\n",
       "  </thead>\n",
       "  <tbody>\n",
       "    <tr>\n",
       "      <th>count</th>\n",
       "      <td>398.000000</td>\n",
       "      <td>398.000000</td>\n",
       "      <td>398.000000</td>\n",
       "      <td>398.000000</td>\n",
       "      <td>398.000000</td>\n",
       "      <td>398.000000</td>\n",
       "      <td>398.000000</td>\n",
       "    </tr>\n",
       "    <tr>\n",
       "      <th>mean</th>\n",
       "      <td>23.514573</td>\n",
       "      <td>5.454774</td>\n",
       "      <td>193.425879</td>\n",
       "      <td>2970.424623</td>\n",
       "      <td>15.568090</td>\n",
       "      <td>76.010050</td>\n",
       "      <td>1.572864</td>\n",
       "    </tr>\n",
       "    <tr>\n",
       "      <th>std</th>\n",
       "      <td>7.815984</td>\n",
       "      <td>1.701004</td>\n",
       "      <td>104.269838</td>\n",
       "      <td>846.841774</td>\n",
       "      <td>2.757689</td>\n",
       "      <td>3.697627</td>\n",
       "      <td>0.802055</td>\n",
       "    </tr>\n",
       "    <tr>\n",
       "      <th>min</th>\n",
       "      <td>9.000000</td>\n",
       "      <td>3.000000</td>\n",
       "      <td>68.000000</td>\n",
       "      <td>1613.000000</td>\n",
       "      <td>8.000000</td>\n",
       "      <td>70.000000</td>\n",
       "      <td>1.000000</td>\n",
       "    </tr>\n",
       "    <tr>\n",
       "      <th>25%</th>\n",
       "      <td>17.500000</td>\n",
       "      <td>4.000000</td>\n",
       "      <td>104.250000</td>\n",
       "      <td>2223.750000</td>\n",
       "      <td>13.825000</td>\n",
       "      <td>73.000000</td>\n",
       "      <td>1.000000</td>\n",
       "    </tr>\n",
       "    <tr>\n",
       "      <th>50%</th>\n",
       "      <td>23.000000</td>\n",
       "      <td>4.000000</td>\n",
       "      <td>148.500000</td>\n",
       "      <td>2803.500000</td>\n",
       "      <td>15.500000</td>\n",
       "      <td>76.000000</td>\n",
       "      <td>1.000000</td>\n",
       "    </tr>\n",
       "    <tr>\n",
       "      <th>75%</th>\n",
       "      <td>29.000000</td>\n",
       "      <td>8.000000</td>\n",
       "      <td>262.000000</td>\n",
       "      <td>3608.000000</td>\n",
       "      <td>17.175000</td>\n",
       "      <td>79.000000</td>\n",
       "      <td>2.000000</td>\n",
       "    </tr>\n",
       "    <tr>\n",
       "      <th>max</th>\n",
       "      <td>46.600000</td>\n",
       "      <td>8.000000</td>\n",
       "      <td>455.000000</td>\n",
       "      <td>5140.000000</td>\n",
       "      <td>24.800000</td>\n",
       "      <td>82.000000</td>\n",
       "      <td>3.000000</td>\n",
       "    </tr>\n",
       "  </tbody>\n",
       "</table>\n",
       "</div>"
      ],
      "text/plain": [
       "              mpg   cylinders  displacement       weight  acceleration  \\\n",
       "count  398.000000  398.000000    398.000000   398.000000    398.000000   \n",
       "mean    23.514573    5.454774    193.425879  2970.424623     15.568090   \n",
       "std      7.815984    1.701004    104.269838   846.841774      2.757689   \n",
       "min      9.000000    3.000000     68.000000  1613.000000      8.000000   \n",
       "25%     17.500000    4.000000    104.250000  2223.750000     13.825000   \n",
       "50%     23.000000    4.000000    148.500000  2803.500000     15.500000   \n",
       "75%     29.000000    8.000000    262.000000  3608.000000     17.175000   \n",
       "max     46.600000    8.000000    455.000000  5140.000000     24.800000   \n",
       "\n",
       "       model year      origin  \n",
       "count  398.000000  398.000000  \n",
       "mean    76.010050    1.572864  \n",
       "std      3.697627    0.802055  \n",
       "min     70.000000    1.000000  \n",
       "25%     73.000000    1.000000  \n",
       "50%     76.000000    1.000000  \n",
       "75%     79.000000    2.000000  \n",
       "max     82.000000    3.000000  "
      ]
     },
     "execution_count": 70,
     "metadata": {},
     "output_type": "execute_result"
    }
   ],
   "source": [
    "print(\"Summary statistics for numerical columns:\")\n",
    "df.describe()"
   ]
  },
  {
   "cell_type": "markdown",
   "id": "5e67035d-75e0-4b2b-bc92-97e86efcae56",
   "metadata": {},
   "source": [
    "## 2. Filtering and Indexing"
   ]
  },
  {
   "cell_type": "code",
   "execution_count": 83,
   "id": "801a0fa1-3b58-4dbb-a7c0-25f21aba9511",
   "metadata": {},
   "outputs": [
    {
     "name": "stdout",
     "output_type": "stream",
     "text": [
      "Cars manufactured in 1975 with weight less than 3000:\n",
      "Empty DataFrame\n",
      "Columns: [car name, weight, mpg]\n",
      "Index: []\n"
     ]
    }
   ],
   "source": [
    "# Find all cars manufactured in 1975 with a weight less than 3000. Return the DataFrame with selected columns: car_name, weight, and mpg.\n",
    "\n",
    "filtered_df = df[(df[\"model year\"] ==1975) & (df[\"weight\"]<3000)]\n",
    "result = filtered_df[[\"car name\",\"weight\",\"mpg\"]]\n",
    "print(\"Cars manufactured in 1975 with weight less than 3000:\")\n",
    "print(result)"
   ]
  },
  {
   "cell_type": "markdown",
   "id": "72dc9cb6-14bf-486f-af0b-8ba4b0777010",
   "metadata": {},
   "source": [
    "## 3. Handling Missing Data"
   ]
  },
  {
   "cell_type": "code",
   "execution_count": 86,
   "id": "97f94c4d-3b05-4acc-a9e2-6f85b542e569",
   "metadata": {},
   "outputs": [],
   "source": [
    "# Identify if there are any missing values in the dataset. Replace missing values in the horsepower column with the column's median.\n",
    "\n"
   ]
  },
  {
   "cell_type": "code",
   "execution_count": null,
   "id": "8111f43e-60f3-4f6f-8ffd-887e56d9b290",
   "metadata": {},
   "outputs": [],
   "source": []
  },
  {
   "cell_type": "code",
   "execution_count": 109,
   "id": "25f8e783-8952-40a4-a3a1-9aadfb96cd9e",
   "metadata": {},
   "outputs": [
    {
     "name": "stdout",
     "output_type": "stream",
     "text": [
      "   horsepower  weight  power_to_weight_ratio\n",
      "0       130.0    3504               0.037100\n",
      "1       165.0    3693               0.044679\n",
      "2       150.0    3436               0.043655\n",
      "3       150.0    3433               0.043694\n",
      "4       140.0    3449               0.040591\n"
     ]
    },
    {
     "name": "stderr",
     "output_type": "stream",
     "text": [
      "C:\\Users\\DELL\\AppData\\Local\\Temp\\ipykernel_8352\\2604821126.py:6: FutureWarning: A value is trying to be set on a copy of a DataFrame or Series through chained assignment using an inplace method.\n",
      "The behavior will change in pandas 3.0. This inplace method will never work because the intermediate object on which we are setting values always behaves as a copy.\n",
      "\n",
      "For example, when doing 'df[col].method(value, inplace=True)', try using 'df.method({col: value}, inplace=True)' or df[col] = df[col].method(value) instead, to perform the operation inplace on the original object.\n",
      "\n",
      "\n",
      "  df['horsepower'].fillna(df['horsepower'].median(), inplace=True)\n",
      "C:\\Users\\DELL\\AppData\\Local\\Temp\\ipykernel_8352\\2604821126.py:7: FutureWarning: A value is trying to be set on a copy of a DataFrame or Series through chained assignment using an inplace method.\n",
      "The behavior will change in pandas 3.0. This inplace method will never work because the intermediate object on which we are setting values always behaves as a copy.\n",
      "\n",
      "For example, when doing 'df[col].method(value, inplace=True)', try using 'df.method({col: value}, inplace=True)' or df[col] = df[col].method(value) instead, to perform the operation inplace on the original object.\n",
      "\n",
      "\n",
      "  df['weight'].fillna(df['weight'].median(), inplace=True)\n"
     ]
    }
   ],
   "source": [
    "\n",
    "\n",
    "# Convert 'horsepower' and 'weight' columns to numeric, coercing errors to NaN\n",
    "df['horsepower'] = pd.to_numeric(df['horsepower'], errors='coerce')\n",
    "df['weight'] = pd.to_numeric(df['weight'], errors='coerce')\n",
    "\n",
    "# Handle missing values (optional: replace them with the median)\n",
    "df['horsepower'].fillna(df['horsepower'].median(), inplace=True)\n",
    "df['weight'].fillna(df['weight'].median(), inplace=True)\n",
    "\n",
    "# Add the power_to_weight_ratio column\n",
    "df['power_to_weight_ratio'] = df['horsepower'] / df['weight']\n",
    "\n",
    "# Display the updated DataFrame (first few rows)\n",
    "print(df[['horsepower', 'weight', 'power_to_weight_ratio']].head())\n"
   ]
  },
  {
   "cell_type": "code",
   "execution_count": 111,
   "id": "a9245438-b03b-4724-9a7a-aac01b8cc69b",
   "metadata": {},
   "outputs": [
    {
     "name": "stdout",
     "output_type": "stream",
     "text": [
      "Missing Values in Each Column:\n",
      "mpg                      0\n",
      "cylinders                0\n",
      "displacement             0\n",
      "horsepower               0\n",
      "weight                   0\n",
      "acceleration             0\n",
      "model year               0\n",
      "origin                   0\n",
      "car name                 0\n",
      "power_to_weight_ratio    0\n",
      "dtype: int64\n",
      "\n",
      "Updated 'horsepower' Column:\n",
      "0      130.0\n",
      "1      165.0\n",
      "2      150.0\n",
      "3      150.0\n",
      "4      140.0\n",
      "       ...  \n",
      "393     86.0\n",
      "394     52.0\n",
      "395     84.0\n",
      "396     79.0\n",
      "397     82.0\n",
      "Name: horsepower, Length: 398, dtype: float64\n"
     ]
    },
    {
     "name": "stderr",
     "output_type": "stream",
     "text": [
      "C:\\Users\\DELL\\AppData\\Local\\Temp\\ipykernel_8352\\1722241453.py:7: FutureWarning: A value is trying to be set on a copy of a DataFrame or Series through chained assignment using an inplace method.\n",
      "The behavior will change in pandas 3.0. This inplace method will never work because the intermediate object on which we are setting values always behaves as a copy.\n",
      "\n",
      "For example, when doing 'df[col].method(value, inplace=True)', try using 'df.method({col: value}, inplace=True)' or df[col] = df[col].method(value) instead, to perform the operation inplace on the original object.\n",
      "\n",
      "\n",
      "  df['horsepower'].fillna(median_horsepower, inplace=True)  # Replace missing values\n"
     ]
    }
   ],
   "source": [
    "print(\"Missing Values in Each Column:\")\n",
    "print(df.isnull().sum())\n",
    "\n",
    "# Replace missing values in the 'horsepower' column with the median of the column\n",
    "if 'horsepower' in df.columns:\n",
    "    median_horsepower = df['horsepower'].median(skipna=True)  # Calculate the median\n",
    "    df['horsepower'].fillna(median_horsepower, inplace=True)  # Replace missing values\n",
    "    print(\"\\nUpdated 'horsepower' Column:\")\n",
    "    print(df['horsepower'])"
   ]
  },
  {
   "cell_type": "code",
   "execution_count": null,
   "id": "f4c57b13-c4b2-4add-943a-759ebb09fd54",
   "metadata": {},
   "outputs": [],
   "source": []
  },
  {
   "cell_type": "markdown",
   "id": "e675a1d8-8ebf-4380-b99e-5a65e38d816f",
   "metadata": {},
   "source": [
    "## 4. Data Transformation"
   ]
  },
  {
   "cell_type": "code",
   "execution_count": 113,
   "id": "8cd0dbb4-4949-46de-83c7-dda4e330ebce",
   "metadata": {},
   "outputs": [
    {
     "data": {
      "text/html": [
       "<div>\n",
       "<style scoped>\n",
       "    .dataframe tbody tr th:only-of-type {\n",
       "        vertical-align: middle;\n",
       "    }\n",
       "\n",
       "    .dataframe tbody tr th {\n",
       "        vertical-align: top;\n",
       "    }\n",
       "\n",
       "    .dataframe thead th {\n",
       "        text-align: right;\n",
       "    }\n",
       "</style>\n",
       "<table border=\"1\" class=\"dataframe\">\n",
       "  <thead>\n",
       "    <tr style=\"text-align: right;\">\n",
       "      <th></th>\n",
       "      <th>mpg</th>\n",
       "      <th>cylinders</th>\n",
       "      <th>displacement</th>\n",
       "      <th>horsepower</th>\n",
       "      <th>weight</th>\n",
       "      <th>acceleration</th>\n",
       "      <th>model year</th>\n",
       "      <th>origin</th>\n",
       "      <th>car name</th>\n",
       "      <th>power_to_weight_ratio</th>\n",
       "    </tr>\n",
       "  </thead>\n",
       "  <tbody>\n",
       "    <tr>\n",
       "      <th>0</th>\n",
       "      <td>18.0</td>\n",
       "      <td>8</td>\n",
       "      <td>307.0</td>\n",
       "      <td>130.0</td>\n",
       "      <td>3504</td>\n",
       "      <td>12.0</td>\n",
       "      <td>70</td>\n",
       "      <td>1</td>\n",
       "      <td>chevrolet chevelle malibu</td>\n",
       "      <td>0.037100</td>\n",
       "    </tr>\n",
       "    <tr>\n",
       "      <th>1</th>\n",
       "      <td>15.0</td>\n",
       "      <td>8</td>\n",
       "      <td>350.0</td>\n",
       "      <td>165.0</td>\n",
       "      <td>3693</td>\n",
       "      <td>11.5</td>\n",
       "      <td>70</td>\n",
       "      <td>1</td>\n",
       "      <td>buick skylark 320</td>\n",
       "      <td>0.044679</td>\n",
       "    </tr>\n",
       "    <tr>\n",
       "      <th>2</th>\n",
       "      <td>18.0</td>\n",
       "      <td>8</td>\n",
       "      <td>318.0</td>\n",
       "      <td>150.0</td>\n",
       "      <td>3436</td>\n",
       "      <td>11.0</td>\n",
       "      <td>70</td>\n",
       "      <td>1</td>\n",
       "      <td>plymouth satellite</td>\n",
       "      <td>0.043655</td>\n",
       "    </tr>\n",
       "    <tr>\n",
       "      <th>3</th>\n",
       "      <td>16.0</td>\n",
       "      <td>8</td>\n",
       "      <td>304.0</td>\n",
       "      <td>150.0</td>\n",
       "      <td>3433</td>\n",
       "      <td>12.0</td>\n",
       "      <td>70</td>\n",
       "      <td>1</td>\n",
       "      <td>amc rebel sst</td>\n",
       "      <td>0.043694</td>\n",
       "    </tr>\n",
       "    <tr>\n",
       "      <th>4</th>\n",
       "      <td>17.0</td>\n",
       "      <td>8</td>\n",
       "      <td>302.0</td>\n",
       "      <td>140.0</td>\n",
       "      <td>3449</td>\n",
       "      <td>10.5</td>\n",
       "      <td>70</td>\n",
       "      <td>1</td>\n",
       "      <td>ford torino</td>\n",
       "      <td>0.040591</td>\n",
       "    </tr>\n",
       "  </tbody>\n",
       "</table>\n",
       "</div>"
      ],
      "text/plain": [
       "    mpg  cylinders  displacement  horsepower  weight  acceleration  \\\n",
       "0  18.0          8         307.0       130.0    3504          12.0   \n",
       "1  15.0          8         350.0       165.0    3693          11.5   \n",
       "2  18.0          8         318.0       150.0    3436          11.0   \n",
       "3  16.0          8         304.0       150.0    3433          12.0   \n",
       "4  17.0          8         302.0       140.0    3449          10.5   \n",
       "\n",
       "   model year  origin                   car name  power_to_weight_ratio  \n",
       "0          70       1  chevrolet chevelle malibu               0.037100  \n",
       "1          70       1          buick skylark 320               0.044679  \n",
       "2          70       1         plymouth satellite               0.043655  \n",
       "3          70       1              amc rebel sst               0.043694  \n",
       "4          70       1                ford torino               0.040591  "
      ]
     },
     "execution_count": 113,
     "metadata": {},
     "output_type": "execute_result"
    }
   ],
   "source": [
    "# Add a new column power_to_weight_ratio, calculated as horsepower / weight.\n",
    "\n",
    "df[\"power_to_weight_ratio\"] = df[\"horsepower\"] / df[\"weight\"]\n",
    "df.head()"
   ]
  },
  {
   "cell_type": "markdown",
   "id": "78873faf-c035-4c52-9de6-299bdd0593c9",
   "metadata": {},
   "source": [
    "## 5.Group by"
   ]
  },
  {
   "cell_type": "code",
   "execution_count": 121,
   "id": "a85e0d1d-f93d-4796-8dfd-6c5efad8c6a8",
   "metadata": {},
   "outputs": [
    {
     "name": "stdout",
     "output_type": "stream",
     "text": [
      "Mean mpg by origin: origin\n",
      "1    20.083534\n",
      "2    27.891429\n",
      "3    30.450633\n",
      "Name: mpg, dtype: float64\n"
     ]
    }
   ],
   "source": [
    "# Group the cars by origin and calculate the mean mpg for each group.\n",
    "\n",
    "mean_mpg_by_origin = df.groupby(\"origin\")[\"mpg\"].mean()\n",
    "print(\"Mean mpg by origin:\",mean_mpg_by_origin)\n",
    "                                "
   ]
  },
  {
   "cell_type": "markdown",
   "id": "6700da1a-f43d-4902-ac34-5301e1620b69",
   "metadata": {},
   "source": [
    "## 6.Sorting"
   ]
  },
  {
   "cell_type": "code",
   "execution_count": 126,
   "id": "eecc7f0d-60de-4f42-a30d-f248b2a583a0",
   "metadata": {},
   "outputs": [
    {
     "name": "stdout",
     "output_type": "stream",
     "text": [
      "Top 10 cars with highest mpg:       mpg  cylinders  displacement  horsepower  weight  acceleration  \\\n",
      "322  46.6          4          86.0        65.0    2110          17.9   \n",
      "329  44.6          4          91.0        67.0    1850          13.8   \n",
      "325  44.3          4          90.0        48.0    2085          21.7   \n",
      "394  44.0          4          97.0        52.0    2130          24.6   \n",
      "326  43.4          4          90.0        48.0    2335          23.7   \n",
      "244  43.1          4          90.0        48.0    1985          21.5   \n",
      "309  41.5          4          98.0        76.0    2144          14.7   \n",
      "330  40.9          4          85.0        93.5    1835          17.3   \n",
      "324  40.8          4          85.0        65.0    2110          19.2   \n",
      "247  39.4          4          85.0        70.0    2070          18.6   \n",
      "\n",
      "     model year  origin                         car name  \\\n",
      "322          80       3                        mazda glc   \n",
      "329          80       3              honda civic 1500 gl   \n",
      "325          80       2             vw rabbit c (diesel)   \n",
      "394          82       2                        vw pickup   \n",
      "326          80       2               vw dasher (diesel)   \n",
      "244          78       2  volkswagen rabbit custom diesel   \n",
      "309          80       2                        vw rabbit   \n",
      "330          80       2             renault lecar deluxe   \n",
      "324          80       3                       datsun 210   \n",
      "247          78       3                   datsun b210 gx   \n",
      "\n",
      "     power_to_weight_ratio  \n",
      "322               0.030806  \n",
      "329               0.036216  \n",
      "325               0.023022  \n",
      "394               0.024413  \n",
      "326               0.020557  \n",
      "244               0.024181  \n",
      "309               0.035448  \n",
      "330               0.050954  \n",
      "324               0.030806  \n",
      "247               0.033816  \n"
     ]
    },
    {
     "data": {
      "text/html": [
       "<div>\n",
       "<style scoped>\n",
       "    .dataframe tbody tr th:only-of-type {\n",
       "        vertical-align: middle;\n",
       "    }\n",
       "\n",
       "    .dataframe tbody tr th {\n",
       "        vertical-align: top;\n",
       "    }\n",
       "\n",
       "    .dataframe thead th {\n",
       "        text-align: right;\n",
       "    }\n",
       "</style>\n",
       "<table border=\"1\" class=\"dataframe\">\n",
       "  <thead>\n",
       "    <tr style=\"text-align: right;\">\n",
       "      <th></th>\n",
       "      <th>mpg</th>\n",
       "      <th>cylinders</th>\n",
       "      <th>displacement</th>\n",
       "      <th>horsepower</th>\n",
       "      <th>weight</th>\n",
       "      <th>acceleration</th>\n",
       "      <th>model year</th>\n",
       "      <th>origin</th>\n",
       "      <th>car name</th>\n",
       "      <th>power_to_weight_ratio</th>\n",
       "    </tr>\n",
       "  </thead>\n",
       "  <tbody>\n",
       "    <tr>\n",
       "      <th>0</th>\n",
       "      <td>18.0</td>\n",
       "      <td>8</td>\n",
       "      <td>307.0</td>\n",
       "      <td>130.0</td>\n",
       "      <td>3504</td>\n",
       "      <td>12.0</td>\n",
       "      <td>70</td>\n",
       "      <td>1</td>\n",
       "      <td>chevrolet chevelle malibu</td>\n",
       "      <td>0.037100</td>\n",
       "    </tr>\n",
       "    <tr>\n",
       "      <th>1</th>\n",
       "      <td>15.0</td>\n",
       "      <td>8</td>\n",
       "      <td>350.0</td>\n",
       "      <td>165.0</td>\n",
       "      <td>3693</td>\n",
       "      <td>11.5</td>\n",
       "      <td>70</td>\n",
       "      <td>1</td>\n",
       "      <td>buick skylark 320</td>\n",
       "      <td>0.044679</td>\n",
       "    </tr>\n",
       "    <tr>\n",
       "      <th>2</th>\n",
       "      <td>18.0</td>\n",
       "      <td>8</td>\n",
       "      <td>318.0</td>\n",
       "      <td>150.0</td>\n",
       "      <td>3436</td>\n",
       "      <td>11.0</td>\n",
       "      <td>70</td>\n",
       "      <td>1</td>\n",
       "      <td>plymouth satellite</td>\n",
       "      <td>0.043655</td>\n",
       "    </tr>\n",
       "    <tr>\n",
       "      <th>3</th>\n",
       "      <td>16.0</td>\n",
       "      <td>8</td>\n",
       "      <td>304.0</td>\n",
       "      <td>150.0</td>\n",
       "      <td>3433</td>\n",
       "      <td>12.0</td>\n",
       "      <td>70</td>\n",
       "      <td>1</td>\n",
       "      <td>amc rebel sst</td>\n",
       "      <td>0.043694</td>\n",
       "    </tr>\n",
       "    <tr>\n",
       "      <th>4</th>\n",
       "      <td>17.0</td>\n",
       "      <td>8</td>\n",
       "      <td>302.0</td>\n",
       "      <td>140.0</td>\n",
       "      <td>3449</td>\n",
       "      <td>10.5</td>\n",
       "      <td>70</td>\n",
       "      <td>1</td>\n",
       "      <td>ford torino</td>\n",
       "      <td>0.040591</td>\n",
       "    </tr>\n",
       "  </tbody>\n",
       "</table>\n",
       "</div>"
      ],
      "text/plain": [
       "    mpg  cylinders  displacement  horsepower  weight  acceleration  \\\n",
       "0  18.0          8         307.0       130.0    3504          12.0   \n",
       "1  15.0          8         350.0       165.0    3693          11.5   \n",
       "2  18.0          8         318.0       150.0    3436          11.0   \n",
       "3  16.0          8         304.0       150.0    3433          12.0   \n",
       "4  17.0          8         302.0       140.0    3449          10.5   \n",
       "\n",
       "   model year  origin                   car name  power_to_weight_ratio  \n",
       "0          70       1  chevrolet chevelle malibu               0.037100  \n",
       "1          70       1          buick skylark 320               0.044679  \n",
       "2          70       1         plymouth satellite               0.043655  \n",
       "3          70       1              amc rebel sst               0.043694  \n",
       "4          70       1                ford torino               0.040591  "
      ]
     },
     "execution_count": 126,
     "metadata": {},
     "output_type": "execute_result"
    }
   ],
   "source": [
    "# Sort the DataFrame by mpg in descending order and display the top 10 cars with the highest mpg.\n",
    "\n",
    "top_10_mpg = df.sort_values(by=\"mpg\",ascending=False).head(10)\n",
    "print(\"Top 10 cars with highest mpg:\",top_10_mpg)\n",
    "df.head()"
   ]
  },
  {
   "cell_type": "code",
   "execution_count": 130,
   "id": "265ed4a1-002c-463f-989e-8253aecd4088",
   "metadata": {},
   "outputs": [
    {
     "name": "stdout",
     "output_type": "stream",
     "text": [
      "DataFrame with Performance Score:\n",
      "    mpg  acceleration  weight  performance_score\n",
      "0  18.0          12.0    3504           0.061644\n",
      "1  15.0          11.5    3693           0.046710\n",
      "2  18.0          11.0    3436           0.057625\n",
      "3  16.0          12.0    3433           0.055928\n",
      "4  17.0          10.5    3449           0.051754\n"
     ]
    }
   ],
   "source": [
    "\n",
    "def performance_score(row):\n",
    "    return row['mpg'] * row['acceleration'] / row['weight']\n",
    "\n",
    "df['performance_score'] = df.apply(performance_score, axis=1)\n",
    "                                   \n",
    "print(\"DataFrame with Performance Score:\")\n",
    "print(df[['mpg', 'acceleration', 'weight', 'performance_score']].head())\n"
   ]
  },
  {
   "cell_type": "markdown",
   "id": "90193b33-1695-406a-8823-71e3e2792cd9",
   "metadata": {},
   "source": [
    "## 7.Apply this function to each row and store the result in the new column."
   ]
  },
  {
   "cell_type": "code",
   "execution_count": 133,
   "id": "408dfaa0-28ca-40e3-8645-4dc3ae3b5f66",
   "metadata": {},
   "outputs": [
    {
     "name": "stdout",
     "output_type": "stream",
     "text": [
      "    mpg  acceleration  weight  performance_score\n",
      "0  18.0          12.0    3504           0.061644\n",
      "1  15.0          11.5    3693           0.046710\n",
      "2  18.0          11.0    3436           0.057625\n",
      "3  16.0          12.0    3433           0.055928\n",
      "4  17.0          10.5    3449           0.051754\n"
     ]
    }
   ],
   "source": [
    "\n",
    "def performance_score(row):\n",
    "    return row['mpg'] * row['acceleration'] / row['weight']\n",
    "\n",
    "df['performance_score'] = df.apply(performance_score, axis=1)\n",
    "print(df[['mpg', 'acceleration', 'weight', 'performance_score']].head())\n"
   ]
  },
  {
   "cell_type": "markdown",
   "id": "aa1820e8-3202-41e7-b8a6-3832f69b0933",
   "metadata": {},
   "source": [
    "## 8. Visualization Preparation"
   ]
  },
  {
   "cell_type": "code",
   "execution_count": 144,
   "id": "78b4813f-a8f6-4996-af44-3071e469c000",
   "metadata": {},
   "outputs": [
    {
     "name": "stdout",
     "output_type": "stream",
     "text": [
      "Summary dataframe with Averages:\n",
      "    model year        mpg       weight  horsepower\n",
      "0           70  17.689655  3372.793103  147.827586\n",
      "1           71  21.250000  2995.428571  106.553571\n",
      "2           72  18.714286  3237.714286  120.178571\n",
      "3           73  17.100000  3419.025000  130.475000\n",
      "4           74  22.703704  2877.925926   94.203704\n",
      "5           75  20.266667  3176.800000  101.066667\n",
      "6           76  21.573529  3078.735294  101.117647\n",
      "7           77  23.375000  2997.357143  105.071429\n",
      "8           78  24.061111  2861.805556   99.694444\n",
      "9           79  25.093103  3055.344828  101.206897\n",
      "10          80  33.696552  2436.655172   78.586207\n",
      "11          81  30.334483  2522.931034   81.465517\n",
      "12          82  31.709677  2453.548387   81.854839\n"
     ]
    }
   ],
   "source": [
    "# Generate a summary DataFrame with:\n",
    " # Average mpg, weight, and horsepower for each model_year.\n",
    "\n",
    "summary = df.groupby(\"model year\")[[\"mpg\",\"weight\",\"horsepower\"]].mean().reset_index()\n",
    "print(\"Summary dataframe with Averages:\")\n",
    "print(summary)\n",
    "\n"
   ]
  },
  {
   "cell_type": "markdown",
   "id": "1bce4ca3-7c87-4c43-9b86-2d1d300e71fc",
   "metadata": {},
   "source": [
    "## 9.Exporting Data"
   ]
  },
  {
   "cell_type": "code",
   "execution_count": 167,
   "id": "e0603c9b-ce1d-43a8-9efc-017a735abef7",
   "metadata": {},
   "outputs": [
    {
     "name": "stdout",
     "output_type": "stream",
     "text": [
      "Subset saved to high_mpg_cars.csv\n"
     ]
    }
   ],
   "source": [
    "# Save a subset of the data containing only mpg, cylinders, horsepower, and weight for cars with mpg > 30 into a CSV fi le named high_mpg_cars.csv.\n",
    "\n",
    "subset = df[df['mpg'] > 30][['mpg', 'cylinders', 'horsepower', 'weight']]\n",
    "subset.to_csv('high_mpg_cars.csv', index=False)\n",
    "print(\"Subset saved to high_mpg_cars.csv\")"
   ]
  },
  {
   "cell_type": "markdown",
   "id": "a5bdfe0d-e5a8-4315-b7b1-6f8f8d7f943f",
   "metadata": {},
   "source": [
    "## 10.Finding Anomalies"
   ]
  },
  {
   "cell_type": "code",
   "execution_count": 150,
   "id": "9e174098-46dd-4c36-86b1-3c8b8464bab9",
   "metadata": {},
   "outputs": [],
   "source": [
    "#Identify potential outliers in the mpg column using the Interquartile Range (IQR) method. Specifically:\n",
    "# Calculate the IQR for mpg.\n",
    "# Define outliers as values less than Q1 - 1.5 * IQR or greater than Q3 + 1.5 * IQR.\n",
    "# Create a DataFrame of cars classified as outliers, displaying car_name, mpg, and model_year.\n",
    "\n"
   ]
  },
  {
   "cell_type": "code",
   "execution_count": 156,
   "id": "cdd72c59-850d-4cc0-9f7a-96ed4a1b1d64",
   "metadata": {},
   "outputs": [
    {
     "name": "stdout",
     "output_type": "stream",
     "text": [
      "Cars classified as outliers:\n"
     ]
    },
    {
     "data": {
      "text/html": [
       "<div>\n",
       "<style scoped>\n",
       "    .dataframe tbody tr th:only-of-type {\n",
       "        vertical-align: middle;\n",
       "    }\n",
       "\n",
       "    .dataframe tbody tr th {\n",
       "        vertical-align: top;\n",
       "    }\n",
       "\n",
       "    .dataframe thead th {\n",
       "        text-align: right;\n",
       "    }\n",
       "</style>\n",
       "<table border=\"1\" class=\"dataframe\">\n",
       "  <thead>\n",
       "    <tr style=\"text-align: right;\">\n",
       "      <th></th>\n",
       "      <th>car name</th>\n",
       "      <th>mpg</th>\n",
       "      <th>model year</th>\n",
       "    </tr>\n",
       "  </thead>\n",
       "  <tbody>\n",
       "    <tr>\n",
       "      <th>322</th>\n",
       "      <td>mazda glc</td>\n",
       "      <td>46.6</td>\n",
       "      <td>80</td>\n",
       "    </tr>\n",
       "  </tbody>\n",
       "</table>\n",
       "</div>"
      ],
      "text/plain": [
       "      car name   mpg  model year\n",
       "322  mazda glc  46.6          80"
      ]
     },
     "execution_count": 156,
     "metadata": {},
     "output_type": "execute_result"
    }
   ],
   "source": [
    "Q1 =df['mpg'].quantile(0.25)\n",
    "Q3 =df['mpg'].quantile(0.75)\n",
    "IQR = Q3 -Q1\n",
    "\n",
    "lower_bound = Q1 -1.5 * IQR\n",
    "upper_bound = Q3 + 1.5 * IQR\n",
    "\n",
    "outliers = df[(df['mpg']<lower_bound) | (df['mpg']>upper_bound)]\n",
    "outliers_df = outliers[['car name','mpg','model year']]\n",
    "\n",
    "print(\"Cars classified as outliers:\")\n",
    "(outliers_df)"
   ]
  },
  {
   "cell_type": "code",
   "execution_count": null,
   "id": "318cd4fa-51e4-4f35-bf45-b5e1fbe1b7cc",
   "metadata": {},
   "outputs": [],
   "source": []
  }
 ],
 "metadata": {
  "kernelspec": {
   "display_name": "Python 3 (ipykernel)",
   "language": "python",
   "name": "python3"
  },
  "language_info": {
   "codemirror_mode": {
    "name": "ipython",
    "version": 3
   },
   "file_extension": ".py",
   "mimetype": "text/x-python",
   "name": "python",
   "nbconvert_exporter": "python",
   "pygments_lexer": "ipython3",
   "version": "3.12.7"
  }
 },
 "nbformat": 4,
 "nbformat_minor": 5
}
